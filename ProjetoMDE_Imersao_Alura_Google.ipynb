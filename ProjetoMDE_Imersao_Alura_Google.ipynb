{
  "nbformat": 4,
  "nbformat_minor": 0,
  "metadata": {
    "colab": {
      "provenance": [],
      "authorship_tag": "ABX9TyNyMtj5iwVvKLNlrhM/vvzC",
      "include_colab_link": true
    },
    "kernelspec": {
      "name": "python3",
      "display_name": "Python 3"
    },
    "language_info": {
      "name": "python"
    }
  },
  "cells": [
    {
      "cell_type": "markdown",
      "metadata": {
        "id": "view-in-github",
        "colab_type": "text"
      },
      "source": [
        "<a href=\"https://colab.research.google.com/github/lucianedecastro/Projeto_Imersao_Alura_Google/blob/main/ProjetoMDE_Imersao_Alura_Google.ipynb\" target=\"_parent\"><img src=\"https://colab.research.google.com/assets/colab-badge.svg\" alt=\"Open In Colab\"/></a>"
      ]
    },
    {
      "cell_type": "markdown",
      "source": [
        "**Hello world!**\n",
        "Este projeto faz referência a uma pesquisa que minha startup \"MDE | Mulheres do Esporte\", soltou para compreender quem são as mulheres do mercado esportivo.\n",
        "A partir dos dados coletados, é possível analisar e propor ações para a conexão regionalizada e contribuir para o desenvolvimento econômico das mulheres do esporte."
      ],
      "metadata": {
        "id": "Dv3AjoaGiUo4"
      }
    },
    {
      "cell_type": "code",
      "execution_count": 3,
      "metadata": {
        "colab": {
          "base_uri": "https://localhost:8080/",
          "height": 662
        },
        "id": "VkYLAfvoh-qK",
        "outputId": "9147252a-e224-4e5d-d62e-84664bba9ee8"
      },
      "outputs": [
        {
          "output_type": "stream",
          "name": "stdout",
          "text": [
            "## Considerações para a Divulgação Online\n",
            "\n",
            "Considerando que o objetivo é divulgar o report e as ações da rede \"Mulheres do Esporte\" online, é importante considerar as seguintes estratégias:\n",
            "\n",
            "**Formatação do Report:**\n",
            "\n",
            "* **Versão digital interativa:** Além do PDF, criar uma versão do report em formato digital interativo, com gráficos, infográficos e links para facilitar a leitura e o compartilhamento.\n",
            "* **Versão resumida:** Elaborar uma versão resumida do report, com os principais resultados e insights, para divulgação nas redes sociais e em outros canais online.\n",
            "* **Recursos visuais:** Utilizar recursos visuais atrativos, como fotos, vídeos e ilustrações, para tornar o report mais dinâmico e interessante.\n",
            "\n",
            "**Estratégias de Divulgação:**\n",
            "\n",
            "* **Marketing de conteúdo:** Criar conteúdo relevante e informativo sobre a pesquisa, as ações da rede e o empoderamento feminino no esporte, para publicação no site, blog e redes sociais.\n",
            "* **SEO:** Otimizar o site e o conteúdo para os mecanismos de busca, a fim de aumentar a visibilidade da rede \"Mulheres do Esporte\" nos resultados de pesquisa.\n",
            "* **Parcerias com influenciadoras digitais:**  Estabelecer parcerias com influenciadoras digitais do universo esportivo, para divulgação do report e das ações da rede.\n",
            "* **Campanhas de mídia paga:** Investir em campanhas de mídia paga em plataformas como Google Ads e Facebook Ads, para atingir um público maior e segmentado.\n",
            "* **E-mail marketing:** Criar uma lista de e-mails para envio de newsletters com informações sobre a rede, eventos e oportunidades.\n",
            "\n",
            "**Engajamento com o Público:**\n",
            "\n",
            "* **Criar uma comunidade online:**  Estimular a interação entre as mulheres da rede, por meio de grupos em redes sociais, fóruns online e eventos virtuais.\n",
            "* **Promover concursos e desafios:** Realizar concursos e desafios online relacionados ao esporte e ao empoderamento feminino, para engajar o público e aumentar a visibilidade da rede.\n",
            "* **Responder aos comentários e mensagens:**  Monitorar os comentários e mensagens nas redes sociais e no site, e responder prontamente às dúvidas e sugestões do público.\n",
            "\n",
            "**Análise de Resultados:**\n",
            "\n",
            "* **Monitorar as métricas:**  Acompanhar o desempenho das ações de divulgação, como número de acessos ao site, alcance das publicações nas redes sociais, taxa de abertura de e-mails, etc.\n",
            "* **Avaliar o impacto:**  Realizar pesquisas e estudos para avaliar o impacto das ações da rede \"Mulheres do Esporte\" no desenvolvimento do setor e no empoderamento feminino.\n",
            "\n",
            "**Considerações Adicionais:**\n",
            "\n",
            "* **Acessibilidade:** Garantir que o report e as informações da rede sejam acessíveis para pessoas com deficiência.\n",
            "* **Multilinguismo:**  Considerar a possibilidade de traduzir o report e o conteúdo da rede para outros idiomas, a fim de atingir um público internacional.\n",
            "\n",
            "Ao implementar estas estratégias de forma integrada e consistente, a rede \"Mulheres do Esporte\" terá maior chance de alcançar seu público-alvo, divulgar o report com eficiência e promover o empoderamento feminino no setor esportivo. \n",
            "\n"
          ]
        }
      ],
      "source": [
        "\"\"\"\n",
        "At the command line, only need to run once to install the package via pip:\n",
        "\n",
        "$ pip install google-generativeai\n",
        "\"\"\"\n",
        "\n",
        "from pathlib import Path\n",
        "import hashlib\n",
        "import google.generativeai as genai\n",
        "from google.colab import userdata\n",
        "api_key = userdata.get('SECRET_KEY')\n",
        "genai.configure(api_key=api_key)\n",
        "\n",
        "# Set up the model\n",
        "generation_config = {\n",
        "  \"temperature\": 1,\n",
        "  \"top_p\": 0.95,\n",
        "  \"top_k\": 0,\n",
        "  \"max_output_tokens\": 8192,\n",
        "}\n",
        "\n",
        "safety_settings = [\n",
        "  {\n",
        "    \"category\": \"HARM_CATEGORY_HARASSMENT\",\n",
        "    \"threshold\": \"BLOCK_MEDIUM_AND_ABOVE\"\n",
        "  },\n",
        "  {\n",
        "    \"category\": \"HARM_CATEGORY_HATE_SPEECH\",\n",
        "    \"threshold\": \"BLOCK_MEDIUM_AND_ABOVE\"\n",
        "  },\n",
        "  {\n",
        "    \"category\": \"HARM_CATEGORY_SEXUALLY_EXPLICIT\",\n",
        "    \"threshold\": \"BLOCK_MEDIUM_AND_ABOVE\"\n",
        "  },\n",
        "  {\n",
        "    \"category\": \"HARM_CATEGORY_DANGEROUS_CONTENT\",\n",
        "    \"threshold\": \"BLOCK_MEDIUM_AND_ABOVE\"\n",
        "  },\n",
        "]\n",
        "\n",
        "system_instruction = \"Escreva como um analista de dados compondo um report para a dsitribuição online\"\n",
        "\n",
        "model = genai.GenerativeModel(model_name=\"gemini-1.5-pro-latest\",\n",
        "                              generation_config=generation_config,\n",
        "                              system_instruction=system_instruction,\n",
        "                              safety_settings=safety_settings)\n",
        "\n",
        "def extract_pdf_pages(pathname: str) -> list[str]:\n",
        "  parts = [f\"--- START OF PDF ${pathname} ---\"]\n",
        "  # Add logic to read the PDF and return a list of pages here.\n",
        "  pages = []\n",
        "  for index, page in enumerate(pages):\n",
        "    parts.append(f\"--- PAGE {index} ---\")\n",
        "    parts.append(page)\n",
        "  return parts\n",
        "\n",
        "convo = model.start_chat(history=[\n",
        "  {\n",
        "    \"role\": \"user\",\n",
        "    \"parts\": extract_pdf_pages(\"<path>/document0.pdf\")\n",
        "  },\n",
        "  {\n",
        "    \"role\": \"user\",\n",
        "    \"parts\": [\"Com base nas informações contidas na tabela, analise os dados e, a partir deles, traga os resultados encontrados, forneça insights sobre territorialidade, faixa etária, área de atuação e diversidade. Também componha um plano de ação para a divulgação do report, bem como ações de fomento para o desenvolvimento econômico e envolva as ODSs 5 e 7 da Agenda 2030 da Onu.\"]\n",
        "  },\n",
        "  {\n",
        "    \"role\": \"model\",\n",
        "    \"parts\": [\"## Análise dos Dados da Pesquisa \\\"Mulheres do Esporte\\\"\\n\\nEsta análise tem como base as respostas coletadas na pesquisa \\\"Mulheres do Esporte\\\", realizada entre maio de 2021 e novembro de 2023. O objetivo é identificar as principais características e necessidades das mulheres que atuam no setor esportivo, a fim de desenvolver ações que promovam a igualdade de gênero e o empoderamento feminino.\\n\\n**Principais Resultados:**\\n\\n* **Territorialidade:** A maioria das respondentes é do estado de São Paulo (44%), seguido por Rio de Janeiro (11%) e Minas Gerais (7%). Isso indica uma concentração de mulheres atuantes no esporte nas regiões Sudeste e Sul do país.\\n* **Faixa Etária:** A maior parte das participantes (67%) está na faixa etária entre 26 e 39 anos, revelando uma predominância de jovens adultas.\\n* **Área de Atuação:** As áreas de atuação mais frequentes são:\\n    * **Profissionais da Saúde:** 22% (médicas, fisioterapeutas, psicólogas, etc.)\\n    * **Profissionais de Comunicação:** 20% (jornalistas esportivas, social media, radialistas, etc.)\\n    * **Profissionais de Mercado:** 18% (donas de empresas, vendedoras de produtos esportivos, educadoras, etc.)\\n    * **Atletas:** 14% (ativas e ex-atletas)\\n* **Diversidade:** A maioria das respondentes se identifica como mulheres cis (95%) e heterossexuais (72%). Há também representatividade de mulheres pardas (21%) e pretas (10%), mas a maioria se identifica como branca (65%). \\n\\n**Insights:**\\n\\n* A concentração de respondentes no Sudeste e Sul sugere a necessidade de ampliar o alcance da rede para outras regiões do país. \\n* A predominância de jovens adultas demonstra o potencial de crescimento e desenvolvimento da rede, acompanhando a trajetória profissional dessas mulheres.\\n* A diversidade de áreas de atuação revela a amplitude e complexidade do setor esportivo, demandando ações que atendam às necessidades específicas de cada grupo.\\n* A baixa representatividade de mulheres LGBTQIA+ e de diferentes etnias ressalta a importância de promover a inclusão e o combate à discriminação no esporte.\\n\\n## Plano de Ação\\n\\n**Divulgação do Report:**\\n\\n* **Lançamento online:** Realizar um evento online para apresentar os resultados da pesquisa e lançar a rede \\\"Mulheres do Esporte\\\", com a participação de profissionais e atletas renomadas.\\n* **Redes sociais:** Divulgar o report e as ações da rede nas principais plataformas sociais, como Instagram, Facebook, Twitter e LinkedIn.\\n* **Parcerias com a mídia:** Buscar parcerias com veículos de comunicação especializados em esporte e com foco no público feminino, para divulgação do report e das ações da rede.\\n* **Criação de um site:** Desenvolver um site para a rede \\\"Mulheres do Esporte\\\", com informações sobre a pesquisa, as ações da rede, eventos e oportunidades.\\n\\n**Ações de Fomento:**\\n\\n* **Mentorias:**  Criar um programa de mentoria para mulheres que desejam ingressar ou se desenvolver no mercado esportivo.\\n* **Capacitação:**  Oferecer cursos e workshops sobre temas relevantes para o desenvolvimento profissional de mulheres no esporte, como gestão, marketing, comunicação, empreendedorismo e liderança.\\n* **Networking:** Promover eventos e encontros para facilitar a conexão entre as mulheres da rede e a criação de parcerias.\\n* **Incentivo ao empreendedorismo:**  Apoiar o desenvolvimento de negócios liderados por mulheres no setor esportivo, por meio de programas de aceleração, investimentos e acesso a crédito.\\n* **Combate à discriminação:**  Promover campanhas de conscientização sobre a importância da igualdade de gênero e do combate à discriminação no esporte.\\n\\n**ODS 5 e 7:**\\n\\nAs ações propostas estão alinhadas com os Objetivos de Desenvolvimento Sustentável (ODS) 5 e 7 da Agenda 2030 da ONU:\\n\\n* **ODS 5 - Igualdade de Gênero:** Promover a igualdade de oportunidades para mulheres e meninas no esporte, empoderando-as e combatendo a discriminação.\\n* **ODS 7 - Energia Acessível e Limpa:** Incentivar a prática de esportes ao ar livre e a utilização de equipamentos sustentáveis, contribuindo para a redução do impacto ambiental do setor esportivo.\\n\\n**Conclusão:**\\n\\nA pesquisa \\\"Mulheres do Esporte\\\" revelou importantes informações sobre as características e necessidades das mulheres que atuam no setor esportivo. O plano de ação proposto busca promover a igualdade de gênero e o empoderamento feminino, contribuindo para o desenvolvimento sustentável do esporte no Brasil. A rede \\\"Mulheres do Esporte\\\" tem o potencial de se tornar um importante instrumento de transformação social, incentivando a participação feminina e a construção de um setor esportivo mais justo e inclusivo.\"]\n",
        "  },\n",
        "])\n",
        "\n",
        "convo.send_message(\"YOUR_USER_INPUT\")\n",
        "print(convo.last.text)"
      ]
    }
  ]
}